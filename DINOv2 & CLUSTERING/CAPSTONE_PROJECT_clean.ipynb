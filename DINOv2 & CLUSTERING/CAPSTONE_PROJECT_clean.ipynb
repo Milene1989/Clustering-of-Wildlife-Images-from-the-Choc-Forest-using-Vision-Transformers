{
  "nbformat": 4,
  "nbformat_minor": 0,
  "metadata": {
    "colab": {
      "provenance": []
    },
    "kernelspec": {
      "name": "python3",
      "display_name": "Python 3"
    },
    "language_info": {
      "name": "python"
    }
  },
  "cells": [
    {
      "cell_type": "code",
      "source": [
        "import os\n",
        "from pathlib import Path\n",
        "from tqdm import tqdm"
      ],
      "metadata": {
        "id": "0NjacMXL-f0a"
      },
      "execution_count": null,
      "outputs": []
    },
    {
      "cell_type": "markdown",
      "source": [
        "# **1.- Extracción de características utilizando DinoV2 (vision transformer)**"
      ],
      "metadata": {
        "id": "75lpo_IjOhMb"
      }
    },
    {
      "cell_type": "markdown",
      "source": [
        "Para comenzar con la extracción de características utilizando DINOv2 (Vision Transformer), seguimos los siguientes pasos:\n",
        "\n",
        "- Preparación del entorno: Asegurarse de tener instalado Python y las bibliotecas necesarias --> PyTorch, torchvision, y DINOv2.  Asegurarse que los frames de las especies (test, train, val) estén organizados en carpetas correspondientes.\n",
        "\n",
        "- Preprocesamiento de imágenes: Las imágenes deben ser redimensionadas a 224x224 píxeles y normalizadas con los valores de media y desviación estándar esperados por DINOv2.\n",
        "\n",
        "- Extracción de características con DINOv2: Utilizaremos el modelo preentrenado ViT-b/14 para generar embeddings. Los pasos incluyen cargar las imágenes, preprocesarlas, y pasar cada una por el modelo para obtener vectores de características.\n",
        "\n",
        "\n",
        "## DINOv2 Installation"
      ],
      "metadata": {
        "id": "zkOVALU65Nvm"
      }
    },
    {
      "cell_type": "code",
      "source": [
        "!unzip dinov2-main.zip"
      ],
      "metadata": {
        "id": "VFWVlUdSUWrT"
      },
      "execution_count": null,
      "outputs": []
    },
    {
      "cell_type": "code",
      "source": [
        "!pip install -r /content/dinov2-main/requirements.txt"
      ],
      "metadata": {
        "id": "O7sdEvXSU0Uc"
      },
      "execution_count": null,
      "outputs": []
    },
    {
      "cell_type": "code",
      "source": [
        "import sys\n",
        "sys.path.append(\"/content/dinov2-main\")"
      ],
      "metadata": {
        "id": "lr8_wBlrV3sp"
      },
      "execution_count": null,
      "outputs": []
    },
    {
      "cell_type": "code",
      "source": [
        "!pip install -r /content/dinov2-main/requirements-dev.txt"
      ],
      "metadata": {
        "id": "ioaMnSP6VNvf"
      },
      "execution_count": null,
      "outputs": []
    },
    {
      "cell_type": "code",
      "source": [
        "import sys\n",
        "sys.path.append(\"/content/dinov2-main/dinov2/hub\")"
      ],
      "metadata": {
        "id": "9igNK93cVwMc"
      },
      "execution_count": null,
      "outputs": []
    },
    {
      "cell_type": "markdown",
      "source": [
        "## Función para carga de imágenes"
      ],
      "metadata": {
        "id": "rJwMXxlmPEMk"
      }
    },
    {
      "cell_type": "code",
      "source": [
        "import pandas as pd\n",
        "\n",
        "# Cargar el archivo XLSX\n",
        "metadata_file = \"/home/rmunoz/Cropped_images/cropped_images_metadata.xlsx\"\n",
        "df = pd.read_excel(metadata_file)\n",
        "\n",
        "# Extraer los paths de las imágenes\n",
        "image_paths = df[\"Cropped Image Path\"].tolist()"
      ],
      "metadata": {
        "id": "vJxSyR6OSNHu"
      },
      "execution_count": null,
      "outputs": []
    },
    {
      "cell_type": "markdown",
      "source": [
        "## Carga del modelo"
      ],
      "metadata": {
        "id": "w81VPU707w2g"
      }
    },
    {
      "cell_type": "code",
      "source": [
        "from PIL import Image\n",
        "import numpy as np\n",
        "import torch\n",
        "from torchvision import transforms\n",
        "from dinov2.models import vision_transformer\n",
        "from dinov2.hub.backbones import dinov2_vitb14, dinov2_vits14"
      ],
      "metadata": {
        "id": "z3h7k1wBWcG3"
      },
      "execution_count": null,
      "outputs": []
    },
    {
      "cell_type": "code",
      "source": [
        "# Definir el dispositivo\n",
        "device = torch.device('cuda' if torch.cuda.is_available() else 'cpu')"
      ],
      "metadata": {
        "id": "xnO3KDLzUvmh"
      },
      "execution_count": null,
      "outputs": []
    },
    {
      "cell_type": "code",
      "source": [
        "!nvidia-smi"
      ],
      "metadata": {
        "id": "Nko6EUJQZ_y5"
      },
      "execution_count": null,
      "outputs": []
    },
    {
      "cell_type": "code",
      "source": [
        "!nvidia-smi  -L"
      ],
      "metadata": {
        "id": "ROK2DA7QI5x3"
      },
      "execution_count": null,
      "outputs": []
    },
    {
      "cell_type": "code",
      "source": [
        "import torch\n",
        "device_id = 1  # Cambiar a otro índice de GPU disponible\n",
        "device = torch.device(f\"cuda:{device_id}\" if torch.cuda.is_available() else \"cpu\")"
      ],
      "metadata": {
        "id": "_d8IYqFEIrOG"
      },
      "execution_count": null,
      "outputs": []
    },
    {
      "cell_type": "code",
      "source": [
        "torch.cuda.empty_cache()\n",
        "torch.cuda.reset_peak_memory_stats()"
      ],
      "metadata": {
        "id": "ndjVK-2kZWUe"
      },
      "execution_count": null,
      "outputs": []
    },
    {
      "cell_type": "code",
      "source": [
        "# Cargar el modelo DINOv2 preentrenado\n",
        "model = dinov2_vitb14().to(device)  # Mover el modelo al dispositivo especificado\n",
        "model.eval()"
      ],
      "metadata": {
        "id": "gP8kq1xr2w3b"
      },
      "execution_count": null,
      "outputs": []
    },
    {
      "cell_type": "markdown",
      "source": [
        "## Preprocesamiento de las imágenes"
      ],
      "metadata": {
        "id": "XqPqTkNeVWqi"
      }
    },
    {
      "cell_type": "code",
      "source": [
        "# Definir las transformaciones de imagen\n",
        "transform = transforms.Compose([\n",
        "    transforms.Resize((224, 224)),\n",
        "    transforms.ToTensor(),\n",
        "    transforms.Normalize(mean = [0.485, 0.456, 0.406], std = [0.229, 0.224, 0.225]),\n",
        "])"
      ],
      "metadata": {
        "id": "bLkyVtrGU8-e"
      },
      "execution_count": null,
      "outputs": []
    },
    {
      "cell_type": "markdown",
      "source": [
        "## Función para la extracción de características"
      ],
      "metadata": {
        "id": "SLS4FUEQXTii"
      }
    },
    {
      "cell_type": "code",
      "source": [
        "# Función para procesar las imágenes y extraer características\n",
        "def extract_features(image_paths, model, transform, device):\n",
        "    features = []\n",
        "    for path in tqdm(image_paths, desc = \"Extracting features\"):\n",
        "        try:\n",
        "            image = Image.open(path).convert(\"RGB\")\n",
        "            input_tensor = transform(image).unsqueeze(0).to(device)\n",
        "            with torch.no_grad():\n",
        "                output = model(input_tensor)\n",
        "            features.append(output.cpu().numpy().flatten())\n",
        "        except Exception as e:\n",
        "            print(f\"Error with {path}: {e}\")\n",
        "    return np.array(features)"
      ],
      "metadata": {
        "id": "6aR6SE29VqGf"
      },
      "execution_count": null,
      "outputs": []
    },
    {
      "cell_type": "code",
      "source": [
        "from pathlib import Path\n",
        "\n",
        "# Filtrar únicamente los paths existentes\n",
        "df = df[df[\"Cropped Image Path\"].apply(lambda x: Path(x).exists())]\n",
        "\n",
        "# Agrupar por partición\n",
        "train_paths = df[df[\"Partition\"] == \"train\"][\"Cropped Image Path\"].tolist()\n",
        "val_paths = df[df[\"Partition\"] == \"validation\"][\"Cropped Image Path\"].tolist()\n",
        "test_paths = df[df[\"Partition\"] == \"test\"][\"Cropped Image Path\"].tolist()"
      ],
      "metadata": {
        "id": "diYJ8z59Xbge"
      },
      "execution_count": null,
      "outputs": []
    },
    {
      "cell_type": "code",
      "source": [
        "# Extraer las características por separado\n",
        "features_train = extract_features(train_paths, model, transform, device)\n",
        "features_val = extract_features(val_paths, model, transform, device)\n",
        "features_test = extract_features(test_paths, model, transform, device)"
      ],
      "metadata": {
        "id": "eKrpD7MXYWCm"
      },
      "execution_count": null,
      "outputs": []
    },
    {
      "cell_type": "code",
      "source": [
        "five_rows = features_train[:5]\n",
        "five_rows.max()"
      ],
      "metadata": {
        "id": "zecbdHceechI"
      },
      "execution_count": null,
      "outputs": []
    },
    {
      "cell_type": "code",
      "source": [
        "features_train.max()"
      ],
      "metadata": {
        "id": "i0856QHHZjgC"
      },
      "execution_count": null,
      "outputs": []
    },
    {
      "cell_type": "code",
      "source": [
        "features_train.min()"
      ],
      "metadata": {
        "id": "eZr8mo6GghPb"
      },
      "execution_count": null,
      "outputs": []
    },
    {
      "cell_type": "markdown",
      "source": [
        "Se extraen las características de las imágenes por separado (train, val y test) y se guardan en los archivos features_train.npy, features_val.npy y features_test.npy respectivamente.\n",
        "\n",
        "Posteriormente estos archivos se utilizarán para aplicar los algoritmos de clusterización, como K-Means y GMM."
      ],
      "metadata": {
        "id": "cqISAJ82546D"
      }
    },
    {
      "cell_type": "code",
      "source": [
        "# Se guardan las características para un posterior agrupamiento (clustering)\n",
        "np.save(\"/content/features_train.npy\", features_train)\n",
        "np.save(\"/content/features_val.npy\", features_val)\n",
        "np.save(\"/content/features_test.npy\", features_test)"
      ],
      "metadata": {
        "id": "OwIknGYYdlfN"
      },
      "execution_count": null,
      "outputs": []
    },
    {
      "cell_type": "markdown",
      "source": [
        "# **2.- Clusterización:**\n",
        "\n",
        "A continuación se aplica algoritmos de clusterización como K-Means y Gaussian Mixture Models (GMM) sobre los vectores de características extraídos.\n",
        "Se probarán diferentes configuraciones para optimizar el número de clusters."
      ],
      "metadata": {
        "id": "AIg4qcAw5oJa"
      }
    },
    {
      "cell_type": "markdown",
      "source": [
        "## Algoritmo K-Means"
      ],
      "metadata": {
        "id": "51g77ewm81ql"
      }
    },
    {
      "cell_type": "code",
      "source": [
        "from google.colab import files\n",
        "from sklearn.cluster import KMeans\n",
        "import matplotlib.pyplot as plt\n",
        "from sklearn.metrics import pairwise_distances_argmin_min\n",
        "\n",
        "# Clustering K-Means\n",
        "k_values = range(2, 11) # Se prueba con k = 2 hasta k = 10\n",
        "inertias = []\n",
        "\n",
        "for k in k_values:\n",
        "    kmeans = KMeans(n_clusters = k, random_state = 0, n_init = 'auto')\n",
        "    kmeans.fit(features_train)\n",
        "    _, distances = pairwise_distances_argmin_min(features_val, kmeans.cluster_centers_)\n",
        "    inertia = np.sum(distances ** 2)\n",
        "    inertias.append(inertia)\n",
        "\n",
        "plt.figure(figsize = (8, 5))\n",
        "plt.plot(k_values, inertias, marker = 'o')\n",
        "plt.title(\"Inercia en conjunto de validación vs número de clusters\")\n",
        "plt.xlabel(\"Número de clusters (k)\")\n",
        "plt.ylabel(\"Inercia (validación)\")\n",
        "plt.grid(True)\n",
        "\n",
        "# Guardar la figura\n",
        "plt.savefig(\"inercia_vs_k.png\", dpi = 600, bbox_inches = 'tight')\n",
        "files.download(\"inercia_vs_k.png\")\n",
        "\n",
        "plt.show()"
      ],
      "metadata": {
        "id": "Af_1hgaMayQ8"
      },
      "execution_count": null,
      "outputs": []
    },
    {
      "cell_type": "markdown",
      "source": [
        "### Visualizamos y seleccionamos el mejor valor de k y entrenamos el modelo K-Means"
      ],
      "metadata": {
        "id": "aZoyBfTvfH_b"
      }
    },
    {
      "cell_type": "code",
      "source": [
        "# Definición de k óptimo según visualización del codo\n",
        "optimal_k = 5\n",
        "\n",
        "# Entrenamiento final con k óptimo\n",
        "kmeans_final = KMeans(n_clusters = optimal_k, random_state = 0, n_init = 'auto')\n",
        "kmeans_final.fit(features_train)\n",
        "\n",
        "# Predicción en conjunto de test\n",
        "test_preds5 = kmeans_final.predict(features_test)"
      ],
      "metadata": {
        "id": "EcaF2zJxdEGO"
      },
      "execution_count": null,
      "outputs": []
    },
    {
      "cell_type": "code",
      "source": [
        "# Guardar las asignaciones de clusters\n",
        "clusters_kmeans = test_preds5\n",
        "output_path_clustersKmeans = \"/content/clusters_kmeans5.npy\"\n",
        "np.save(output_path_clustersKmeans, clusters_kmeans)"
      ],
      "metadata": {
        "id": "2f8ObtAtgooq"
      },
      "execution_count": null,
      "outputs": []
    },
    {
      "cell_type": "code",
      "source": [
        "# Distribución de clusters en el conjunto de test\n",
        "unique, counts = np.unique(test_preds5, return_counts = True)\n",
        "kmeans_distribution = dict(zip(unique, counts))\n",
        "\n",
        "print(\"\\nDistribución de imágenes por cluster en TEST:\")\n",
        "for cluster, count in kmeans_distribution.items():\n",
        "    print(f\"Cluster {cluster}: {count} imágenes\")\n",
        "\n",
        "plt.figure(figsize = (8, 5))\n",
        "plt.bar(kmeans_distribution.keys(), kmeans_distribution.values(), color = 'blue')\n",
        "plt.xlabel(\"Cluster\")\n",
        "plt.ylabel(\"Cantidad de imágenes\")\n",
        "plt.title(\"Distribución de imágenes por cluster (test)\")\n",
        "plt.grid(axis = 'y')\n",
        "plt.xticks(list(kmeans_distribution.keys()))\n",
        "\n",
        "# Guardar la figura\n",
        "plt.savefig(\"distribucion_clusters_test_k5.png\", dpi = 600, bbox_inches = 'tight')\n",
        "files.download(\"distribucion_clusters_test_k5.png\")\n",
        "\n",
        "plt.show()"
      ],
      "metadata": {
        "id": "L9STIuzzevvs"
      },
      "execution_count": null,
      "outputs": []
    },
    {
      "cell_type": "code",
      "source": [
        "import matplotlib.pyplot as plt\n",
        "import random\n",
        "\n",
        "images_per_cluster = 20\n",
        "\n",
        "print(\"\\nEjemplos aleatorios por cluster:\")\n",
        "for cluster_id in range(optimal_k):\n",
        "    print(f\"\\nCluster {cluster_id}:\")\n",
        "    cluster_indices = np.where(test_preds5 == cluster_id)[0]\n",
        "    if len(cluster_indices) == 0:\n",
        "        print(\"No hay imágenes en este cluster.\")\n",
        "        continue\n",
        "\n",
        "    n_images = min(images_per_cluster, len(cluster_indices))\n",
        "    random_samples = random.sample(list(cluster_indices), n_images)\n",
        "\n",
        "    # Crear grilla para visualizar\n",
        "    cols = 4\n",
        "    rows = (n_images + cols - 1) // cols\n",
        "    fig, axes = plt.subplots(rows, cols, figsize = (cols * 3, rows * 3))\n",
        "\n",
        "    for i, idx in enumerate(random_samples):\n",
        "        row, col = divmod(i, cols)\n",
        "        ax = axes[row][col] if rows > 1 else axes[col] if cols > 1 else axes\n",
        "        try:\n",
        "            img = Image.open(test_paths[idx])\n",
        "            ax.imshow(img.resize((224, 224)))\n",
        "            ax.axis('off')\n",
        "        except:\n",
        "            ax.set_title(\"Error\")\n",
        "            ax.axis('off')\n",
        "\n",
        "    # Rellenar celdas vacías si las hay\n",
        "    for i in range(n_images, rows * cols):\n",
        "        row, col = divmod(i, cols)\n",
        "        ax = axes[row][col] if rows > 1 else axes[col] if cols > 1 else axes\n",
        "        ax.axis('off')\n",
        "\n",
        "    plt.suptitle(f\"Cluster {cluster_id} - {n_images} muestras\", fontsize = 14)\n",
        "    plt.tight_layout()\n",
        "\n",
        "    # Guardar la figura\n",
        "    output_path = f\"cluster_{cluster_id}_muestras.png\"\n",
        "    plt.savefig(output_path, dpi = 600, bbox_inches = 'tight')\n",
        "\n",
        "    from google.colab import files\n",
        "    files.download(output_path)\n",
        "\n",
        "    plt.show()\n",
        "\n",
        "    plt.close()"
      ],
      "metadata": {
        "id": "QQT7jePJxKcv"
      },
      "execution_count": null,
      "outputs": []
    },
    {
      "cell_type": "code",
      "source": [
        "# Inercia en validación después de predict\n",
        "val_preds = kmeans_final.predict(features_val)\n",
        "_, val_distances = pairwise_distances_argmin_min(features_val, kmeans_final.cluster_centers_)\n",
        "val_inertia = np.sum(val_distances ** 2)\n",
        "print(f\"\\nInercia en VALIDACIÓN con k = {optimal_k}: {val_inertia:.2f}\")"
      ],
      "metadata": {
        "id": "dfrEdaBJfWLe"
      },
      "execution_count": null,
      "outputs": []
    },
    {
      "cell_type": "code",
      "source": [
        "print(\"Shape de features_val:\", features_val.shape)\n",
        "print(\"Cantidad de imágenes en validación:\", len(val_paths))"
      ],
      "metadata": {
        "id": "SK31sDbQhMk8"
      },
      "execution_count": null,
      "outputs": []
    },
    {
      "cell_type": "code",
      "source": [
        "from sklearn.metrics import confusion_matrix, jaccard_score, adjusted_rand_score, fowlkes_mallows_score\n",
        "from sklearn.preprocessing import LabelEncoder\n",
        "import seaborn as sns\n",
        "\n",
        "# Matriz de confusión\n",
        "y_true = df[df[\"Partition\"] == \"test\"][\"Species\"].tolist()\n",
        "le = LabelEncoder()\n",
        "y_true_encoded = le.fit_transform(y_true)\n",
        "y_pred_kmeans = test_preds5\n",
        "\n",
        "cm_kmeans = confusion_matrix(y_true_encoded, y_pred_kmeans)\n",
        "\n",
        "plt.figure(figsize = (10, 6))\n",
        "sns.heatmap(cm_kmeans, annot = True, fmt = 'd', cmap = 'Purples', xticklabels = range(optimal_k), yticklabels = le.classes_)\n",
        "plt.xlabel(\"Cluster inferido (KMeans)\")\n",
        "plt.ylabel(\"Etiqueta verdadera (especies)\")\n",
        "plt.title(\"Matriz de confusión - KMeans vs etiquetas reales\")\n",
        "\n",
        "# Guardar la matriz de confusión\n",
        "plt.savefig(\"matriz_confusion_kmeans5.png\", dpi = 600, bbox_inches = 'tight')\n",
        "files.download(\"matriz_confusion_kmeans5.png\")\n",
        "\n",
        "plt.show()"
      ],
      "metadata": {
        "id": "dZp8qb3WdA8Z"
      },
      "execution_count": null,
      "outputs": []
    },
    {
      "cell_type": "code",
      "source": [
        "# Asignación de clase dominante por cluster y Jaccard\n",
        "assignments_kmeans = {}\n",
        "for cluster_id in range(optimal_k):\n",
        "    indices = np.where(np.array(y_pred_kmeans) == cluster_id)[0]\n",
        "    true_labels_in_cluster = [y_true_encoded[i] for i in indices]\n",
        "    if true_labels_in_cluster:\n",
        "        majority_label = max(set(true_labels_in_cluster), key = true_labels_in_cluster.count)\n",
        "        assignments_kmeans[cluster_id] = majority_label\n",
        "    else:\n",
        "        assignments_kmeans[cluster_id] = -1\n",
        "\n",
        "y_pred_mapped_kmeans = [assignments_kmeans[c] for c in y_pred_kmeans]\n",
        "jaccard_macro_kmeans = jaccard_score(y_true_encoded, y_pred_mapped_kmeans, average = 'macro')\n",
        "print(f\"Jaccard Index (macro) - KMeans: {jaccard_macro_kmeans:.4f}\")"
      ],
      "metadata": {
        "id": "j9nKDi9Vdbyn"
      },
      "execution_count": null,
      "outputs": []
    },
    {
      "cell_type": "code",
      "source": [
        "# Métricas adicionales: ARI y Fowlkes-Mallows\n",
        "ari_kmeans = adjusted_rand_score(y_true_encoded, y_pred_kmeans)\n",
        "fmi_kmeans = fowlkes_mallows_score(y_true_encoded, y_pred_kmeans)\n",
        "print(f\"Adjusted Rand Index (ARI) - KMeans: {ari_kmeans:.4f}\")\n",
        "print(f\"Fowlkes-Mallows Index - KMeans: {fmi_kmeans:.4f}\")"
      ],
      "metadata": {
        "id": "Dq6RhWBvdcwH"
      },
      "execution_count": null,
      "outputs": []
    },
    {
      "cell_type": "code",
      "source": [
        "# Visualización comparativa con t-SNE\n",
        "fig, axes = plt.subplots(1, 2, figsize = (16, 6))\n",
        "\n",
        "# t-SNE con etiquetas reales\n",
        "scatter1 = axes[0].scatter(tsne_result[:, 0], tsne_result[:, 1],\n",
        "                           c = y_true_encoded, cmap = \"tab20\", s = 4)\n",
        "axes[0].set_title(\"t-SNE (test) - Etiquetas reales\")\n",
        "axes[0].grid(True)\n",
        "\n",
        "# t-SNE con clusters de KMeans\n",
        "scatter2 = axes[1].scatter(tsne_result[:, 0], tsne_result[:, 1],\n",
        "                           c = y_pred_kmeans, cmap = \"tab10\", s = 4)\n",
        "axes[1].set_title(\"t-SNE (test) - Clusters inferidos por KMeans\")\n",
        "axes[1].grid(True)\n",
        "\n",
        "plt.tight_layout()\n",
        "plt.show()"
      ],
      "metadata": {
        "id": "BQVpgaq12sfD"
      },
      "execution_count": null,
      "outputs": []
    },
    {
      "cell_type": "code",
      "source": [
        "import matplotlib.pyplot as plt\n",
        "import seaborn as sns\n",
        "\n",
        "unique_clusters = np.unique(y_pred_kmeans)\n",
        "unique_labels = np.unique(y_true_encoded)\n",
        "markers = ['o', 's', 'v', '^', '<', '>', 'd', '*', 'P', 'X']\n",
        "\n",
        "plt.figure(figsize = (10, 7))\n",
        "for cluster_id in unique_clusters:\n",
        "    for label_id in unique_labels:\n",
        "        indices = np.where((y_pred_kmeans == cluster_id) & (y_true_encoded == label_id))[0]\n",
        "        if len(indices) == 0:\n",
        "            continue\n",
        "        plt.scatter(tsne_result[indices, 0], tsne_result[indices, 1],\n",
        "                    label = f\"Sp {label_id} / Cl {cluster_id}\",\n",
        "                    s = 8,\n",
        "                    c = [plt.cm.tab20(label_id / len(unique_labels))],\n",
        "                    marker = markers[cluster_id % len(markers)],\n",
        "                    edgecolors = 'none')\n",
        "\n",
        "plt.title(\"t-SNE (test) - Color: Especie real | Forma: Cluster KMeans\")\n",
        "plt.xlabel(\"t-SNE 1\")\n",
        "plt.ylabel(\"t-SNE 2\")\n",
        "plt.grid(True)\n",
        "plt.legend(markerscale = 1.5, fontsize = 8, bbox_to_anchor = (1.05, 1), loc = 'upper left')\n",
        "plt.tight_layout()\n",
        "plt.show()"
      ],
      "metadata": {
        "id": "09yrdah96v3U"
      },
      "execution_count": null,
      "outputs": []
    },
    {
      "cell_type": "markdown",
      "source": [
        "## Agrupamos por combinación especie/cluster y graficamos con centroides\n",
        "\n",
        "En este gráfico se agrupa todos los puntos con la misma especie y cluster, y se coloca un número en el centroide del grupo."
      ],
      "metadata": {
        "id": "5GatTS4KKA-_"
      }
    },
    {
      "cell_type": "code",
      "source": [
        "import matplotlib.pyplot as plt\n",
        "import pandas as pd\n",
        "import numpy as np\n",
        "\n",
        "# Nombres reales de especies (orden según codificación)\n",
        "nombres_especies = {\n",
        "    0: 'Tinamú',\n",
        "    1: 'Agutí',\n",
        "    2: 'Paca',\n",
        "    3: 'Armadillo',\n",
        "    4: 'Roedor',\n",
        "    5: 'Ardilla'\n",
        "}\n",
        "\n",
        "# Crear DataFrame con t-SNE + predicciones\n",
        "df_tsne = pd.DataFrame({\n",
        "    'x': tsne_result[:, 0],\n",
        "    'y': tsne_result[:, 1],\n",
        "    'especie': y_true_encoded,\n",
        "    'cluster': y_pred_kmeans\n",
        "})\n",
        "\n",
        "plt.figure(figsize = (12, 8))\n",
        "\n",
        "# Colores por especie real\n",
        "colores = plt.cm.Dark2(np.linspace(0, 1, len(nombres_especies)))\n",
        "\n",
        "for idx, especie in enumerate(df_tsne['especie'].unique()):\n",
        "    df_subset = df_tsne[df_tsne['especie'] == especie]\n",
        "    plt.scatter(df_subset['x'], df_subset['y'],\n",
        "                s = 12, alpha = 0.5, color = colores[idx],\n",
        "                label=nombres_especies.get(especie, f\"Especie {especie}\"))\n",
        "\n",
        "# Colocar número del cluster en el centro de cada grupo\n",
        "for (especie, cluster), group in df_tsne.groupby(['especie', 'cluster']):\n",
        "    x_med = group['x'].mean()\n",
        "    y_med = group['y'].mean()\n",
        "    plt.text(x_med, y_med, str(cluster),\n",
        "             fontsize = 13, weight = 'bold', ha = 'center', va = 'center',\n",
        "             color = 'black',\n",
        "             bbox = dict(facecolor = 'white', alpha = 0.8, edgecolor = 'gray', boxstyle = 'circle'))\n",
        "\n",
        "plt.title(\"t-SNE — Color: Especie real  |  Número: Cluster K-Means (k=6)\", fontsize = 14)\n",
        "plt.xlabel(\"t-SNE 1\")\n",
        "plt.ylabel(\"t-SNE 2\")\n",
        "plt.legend(title = \"Especie real\", bbox_to_anchor = (1.05, 1), loc = 'upper left', fontsize = 9)\n",
        "plt.tight_layout()\n",
        "\n",
        "# Guardar la figura\n",
        "plt.savefig(\"tsne_especie-cluster_KMEANS_5.png\", dpi = 600, bbox_inches = 'tight')\n",
        "files.download(\"tsne_especie-cluster_KMEANS_5.png\")\n",
        "\n",
        "plt.show()\n"
      ],
      "metadata": {
        "id": "J-JYH12VTtYy"
      },
      "execution_count": null,
      "outputs": []
    },
    {
      "cell_type": "markdown",
      "source": [
        "### Probamos con k = 6"
      ],
      "metadata": {
        "id": "Z8GJtmDCq-iA"
      }
    },
    {
      "cell_type": "code",
      "source": [
        "optimal_k = 6\n",
        "\n",
        "# Entrenamiento final con k óptimo\n",
        "kmeans_final = KMeans(n_clusters = optimal_k, random_state = 0, n_init = 'auto')\n",
        "kmeans_final.fit(features_train)\n",
        "\n",
        "# Predicción en conjunto de test\n",
        "test_preds6 = kmeans_final.predict(features_test)"
      ],
      "metadata": {
        "id": "-X3y7GD6q9tL"
      },
      "execution_count": null,
      "outputs": []
    },
    {
      "cell_type": "code",
      "source": [
        "# Guardar las asignaciones de clusters\n",
        "clusters_kmeans = test_preds6\n",
        "output_path_clustersKmeans = \"/content/clusters_kmeans6.npy\"\n",
        "np.save(output_path_clustersKmeans, clusters_kmeans)"
      ],
      "metadata": {
        "id": "3vkLkWEhjbQm"
      },
      "execution_count": null,
      "outputs": []
    },
    {
      "cell_type": "code",
      "source": [
        "# Distribución de clusters en el conjunto de test\n",
        "unique, counts = np.unique(test_preds6, return_counts = True)\n",
        "kmeans_distribution = dict(zip(unique, counts))\n",
        "\n",
        "print(\"\\nDistribución de imágenes por cluster en TEST:\")\n",
        "for cluster, count in kmeans_distribution.items():\n",
        "    print(f\"Cluster {cluster}: {count} imágenes\")\n",
        "\n",
        "plt.figure(figsize = (8, 5))\n",
        "plt.bar(kmeans_distribution.keys(), kmeans_distribution.values(), color = 'blue')\n",
        "plt.xlabel(\"Cluster\")\n",
        "plt.ylabel(\"Cantidad de imágenes\")\n",
        "plt.title(\"Distribución de imágenes por cluster (test)\")\n",
        "plt.grid(axis = 'y')\n",
        "plt.xticks(list(kmeans_distribution.keys()))\n",
        "\n",
        "# Guardar la figura\n",
        "plt.savefig(\"distribucion_clusters_test_k6.png\", dpi = 600, bbox_inches = 'tight')\n",
        "files.download(\"distribucion_clusters_test_k6.png\")\n",
        "\n",
        "plt.show()"
      ],
      "metadata": {
        "id": "Z-8CnNidxvcq"
      },
      "execution_count": null,
      "outputs": []
    },
    {
      "cell_type": "code",
      "source": [
        "import matplotlib.pyplot as plt\n",
        "import random\n",
        "\n",
        "images_per_cluster = 20\n",
        "\n",
        "print(\"\\nEjemplos aleatorios por cluster:\")\n",
        "for cluster_id in range(optimal_k):\n",
        "    print(f\"\\nCluster {cluster_id}:\")\n",
        "    cluster_indices = np.where(test_preds6 == cluster_id)[0]\n",
        "    if len(cluster_indices) == 0:\n",
        "        print(\"No hay imágenes en este cluster.\")\n",
        "        continue\n",
        "\n",
        "    n_images = min(images_per_cluster, len(cluster_indices))\n",
        "    random_samples = random.sample(list(cluster_indices), n_images)\n",
        "\n",
        "    # Grilla para visualizar\n",
        "    cols = 4\n",
        "    rows = (n_images + cols - 1) // cols\n",
        "    fig, axes = plt.subplots(rows, cols, figsize = (cols * 3, rows * 3))\n",
        "\n",
        "    for i, idx in enumerate(random_samples):\n",
        "        row, col = divmod(i, cols)\n",
        "        ax = axes[row][col] if rows > 1 else axes[col] if cols > 1 else axes\n",
        "        try:\n",
        "            img = Image.open(test_paths[idx])\n",
        "            ax.imshow(img.resize((224, 224)))\n",
        "            ax.axis(\"off\")\n",
        "        except:\n",
        "            ax.set_title(\"Error\")\n",
        "            ax.axis(\"off\")\n",
        "\n",
        "    # Rellenar celdas vacías si las hay\n",
        "    for i in range(n_images, rows * cols):\n",
        "        row, col = divmod(i, cols)\n",
        "        ax = axes[row][col] if rows > 1 else axes[col] if cols > 1 else axes\n",
        "        ax.axis(\"off\")\n",
        "\n",
        "    plt.suptitle(f\"Cluster {cluster_id} - {n_images} muestras\", fontsize = 14)\n",
        "    plt.tight_layout()\n",
        "\n",
        "    # Guardar la figura\n",
        "    output_path = f\"cluster_{cluster_id}_muestras.png\"\n",
        "    plt.savefig(output_path, dpi = 600, bbox_inches = 'tight')\n",
        "\n",
        "    from google.colab import files\n",
        "    files.download(output_path)\n",
        "\n",
        "    plt.show()\n",
        "\n",
        "    plt.close()"
      ],
      "metadata": {
        "id": "x987maWMx_VD"
      },
      "execution_count": null,
      "outputs": []
    },
    {
      "cell_type": "code",
      "source": [
        "# Inercia en validación después de predict\n",
        "val_preds = kmeans_final.predict(features_val)\n",
        "_, val_distances = pairwise_distances_argmin_min(features_val, kmeans_final.cluster_centers_)\n",
        "val_inertia = np.sum(val_distances ** 2)\n",
        "print(f\"\\nInercia en VALIDACIÓN con k = {optimal_k}: {val_inertia:.2f}\")"
      ],
      "metadata": {
        "id": "XdaRWHH2_Flk"
      },
      "execution_count": null,
      "outputs": []
    },
    {
      "cell_type": "code",
      "source": [
        "print(\"Shape de features_val:\", features_val.shape)\n",
        "print(\"Cantidad de imágenes en validación:\", len(val_paths))"
      ],
      "metadata": {
        "id": "Y1OFHHeH_NSA"
      },
      "execution_count": null,
      "outputs": []
    },
    {
      "cell_type": "code",
      "source": [
        "# Matriz de confusión\n",
        "y_true = df[df[\"Partition\"] == \"test\"][\"Species\"].tolist()\n",
        "le = LabelEncoder()\n",
        "y_true_encoded = le.fit_transform(y_true)\n",
        "y_pred_kmeans = test_preds6\n",
        "\n",
        "cm_kmeans = confusion_matrix(y_true_encoded, y_pred_kmeans)\n",
        "\n",
        "plt.figure(figsize = (10, 6))\n",
        "sns.heatmap(cm_kmeans, annot = True, fmt = 'd', cmap = 'Purples', xticklabels = range(optimal_k), yticklabels = le.classes_)\n",
        "plt.xlabel(\"Cluster inferido (KMeans)\")\n",
        "plt.ylabel(\"Etiqueta verdadera (especies)\")\n",
        "plt.title(\"Matriz de confusión - KMeans vs etiquetas reales\")\n",
        "\n",
        "# Guardar la matriz de confusión\n",
        "plt.savefig(\"matriz_confusion_kmeans6.png\", dpi = 600, bbox_inches = 'tight')\n",
        "files.download(\"matriz_confusion_kmeans6.png\")\n",
        "\n",
        "plt.show()"
      ],
      "metadata": {
        "id": "R22_5mtG_OAG"
      },
      "execution_count": null,
      "outputs": []
    },
    {
      "cell_type": "code",
      "source": [
        "# Asignación de clase dominante por cluster y Jaccard\n",
        "assignments_kmeans = {}\n",
        "for cluster_id in range(optimal_k):\n",
        "    indices = np.where(np.array(y_pred_kmeans) == cluster_id)[0]\n",
        "    true_labels_in_cluster = [y_true_encoded[i] for i in indices]\n",
        "    if true_labels_in_cluster:\n",
        "        majority_label = max(set(true_labels_in_cluster), key = true_labels_in_cluster.count)\n",
        "        assignments_kmeans[cluster_id] = majority_label\n",
        "    else:\n",
        "        assignments_kmeans[cluster_id] = -1\n",
        "\n",
        "y_pred_mapped_kmeans = [assignments_kmeans[c] for c in y_pred_kmeans]\n",
        "jaccard_macro_kmeans = jaccard_score(y_true_encoded, y_pred_mapped_kmeans, average = 'macro')\n",
        "print(f\"Jaccard Index (macro) - KMeans: {jaccard_macro_kmeans:.4f}\")"
      ],
      "metadata": {
        "id": "ox93KJyQ_VBU"
      },
      "execution_count": null,
      "outputs": []
    },
    {
      "cell_type": "code",
      "source": [
        "# Métricas adicionales: ARI y Fowlkes-Mallows\n",
        "ari_kmeans = adjusted_rand_score(y_true_encoded, y_pred_kmeans)\n",
        "fmi_kmeans = fowlkes_mallows_score(y_true_encoded, y_pred_kmeans)\n",
        "print(f\"Adjusted Rand Index (ARI) - KMeans: {ari_kmeans:.4f}\")\n",
        "print(f\"Fowlkes-Mallows Index - KMeans: {fmi_kmeans:.4f}\")"
      ],
      "metadata": {
        "id": "1x4z4XmA_j6I"
      },
      "execution_count": null,
      "outputs": []
    },
    {
      "cell_type": "code",
      "source": [
        "# Visualización comparativa con t-SNE\n",
        "fig, axes = plt.subplots(1, 2, figsize = (16, 6))\n",
        "\n",
        "# t-SNE con etiquetas reales\n",
        "scatter1 = axes[0].scatter(tsne_result[:, 0], tsne_result[:, 1],\n",
        "                           c = y_true_encoded, cmap = 'tab20', s = 4)\n",
        "axes[0].set_title(\"t-SNE (test) - Etiquetas reales\")\n",
        "axes[0].grid(True)\n",
        "\n",
        "# t-SNE con clusters de KMeans\n",
        "scatter2 = axes[1].scatter(tsne_result[:, 0], tsne_result[:, 1],\n",
        "                           c = y_pred_kmeans, cmap = 'tab10', s = 4)\n",
        "axes[1].set_title(\"t-SNE (test) - Clusters inferidos por KMeans\")\n",
        "axes[1].grid(True)\n",
        "\n",
        "plt.tight_layout()\n",
        "plt.show()"
      ],
      "metadata": {
        "id": "_Fveaa7L_sn7"
      },
      "execution_count": null,
      "outputs": []
    },
    {
      "cell_type": "code",
      "source": [
        "import matplotlib.pyplot as plt\n",
        "import seaborn as sns\n",
        "\n",
        "unique_clusters = np.unique(y_pred_kmeans)\n",
        "unique_labels = np.unique(y_true_encoded)\n",
        "markers = ['o', 's', 'v', '^', '<', '>', 'd', '*', 'P', 'X']\n",
        "\n",
        "plt.figure(figsize = (10, 7))\n",
        "for cluster_id in unique_clusters:\n",
        "    for label_id in unique_labels:\n",
        "        indices = np.where((y_pred_kmeans == cluster_id) & (y_true_encoded == label_id))[0]\n",
        "        if len(indices) == 0:\n",
        "            continue\n",
        "        plt.scatter(tsne_result[indices, 0], tsne_result[indices, 1],\n",
        "                    label = f\"Sp {label_id} / Cl {cluster_id}\",\n",
        "                    s = 8,\n",
        "                    c = [plt.cm.tab20(label_id / len(unique_labels))],\n",
        "                    marker = markers[cluster_id % len(markers)],\n",
        "                    edgecolors = 'none')\n",
        "\n",
        "plt.title(\"t-SNE (test) - Color: Especie real | Forma: Cluster KMeans\")\n",
        "plt.xlabel(\"t-SNE 1\")\n",
        "plt.ylabel(\"t-SNE 2\")\n",
        "plt.grid(True)\n",
        "plt.legend(markerscale = 1.5, fontsize = 8, bbox_to_anchor = (1.05, 1), loc = 'upper left')\n",
        "plt.tight_layout()\n",
        "plt.show()"
      ],
      "metadata": {
        "id": "887cpldVYCBF"
      },
      "execution_count": null,
      "outputs": []
    },
    {
      "cell_type": "code",
      "source": [
        "import matplotlib.pyplot as plt\n",
        "import pandas as pd\n",
        "import numpy as np\n",
        "\n",
        "# Nombres reales de especies (orden según codificación)\n",
        "nombres_especies = {\n",
        "    0: 'Tinamú',\n",
        "    1: 'Agutí',\n",
        "    2: 'Paca',\n",
        "    3: 'Armadillo',\n",
        "    4: 'Roedor',\n",
        "    5: 'Ardilla'\n",
        "}\n",
        "\n",
        "# Crear DataFrame con t-SNE + predicciones\n",
        "df_tsne = pd.DataFrame({\n",
        "    'x': tsne_result[:, 0],\n",
        "    'y': tsne_result[:, 1],\n",
        "    'especie': y_true_encoded,\n",
        "    'cluster': y_pred_kmeans\n",
        "})\n",
        "\n",
        "plt.figure(figsize = (12, 8))\n",
        "\n",
        "# Colores por especie real\n",
        "colores = plt.cm.Dark2(np.linspace(0, 1, len(nombres_especies)))\n",
        "\n",
        "for idx, especie in enumerate(df_tsne['especie'].unique()):\n",
        "    df_subset = df_tsne[df_tsne['especie'] == especie]\n",
        "    plt.scatter(df_subset['x'], df_subset['y'],\n",
        "                s = 12, alpha = 0.5, color = colores[idx],\n",
        "                label=nombres_especies.get(especie, f\"Especie {especie}\"))\n",
        "\n",
        "# Colocar número del cluster en el centro de cada grupo\n",
        "for (especie, cluster), group in df_tsne.groupby(['especie', 'cluster']):\n",
        "    x_med = group['x'].mean()\n",
        "    y_med = group['y'].mean()\n",
        "    plt.text(x_med, y_med, str(cluster),\n",
        "             fontsize = 13, weight = 'bold', ha = 'center', va = 'center',\n",
        "             color = 'black',\n",
        "             bbox = dict(facecolor = 'white', alpha = 0.8, edgecolor = 'gray', boxstyle = 'circle'))\n",
        "\n",
        "plt.title(\"t-SNE — Color: Especie real  |  Número: Cluster K-Means (k=6)\", fontsize = 14)\n",
        "plt.xlabel(\"t-SNE 1\")\n",
        "plt.ylabel(\"t-SNE 2\")\n",
        "plt.legend(title = \"Especie real\", bbox_to_anchor = (1.05, 1), loc = 'upper left', fontsize = 9)\n",
        "plt.tight_layout()\n",
        "\n",
        "# Guardar la figura\n",
        "plt.savefig(\"tsne_especie-cluster_KMEANS_6.png\", dpi = 600, bbox_inches = 'tight')\n",
        "files.download(\"tsne_especie-cluster_KMEANS_6.png\")\n",
        "\n",
        "plt.show()"
      ],
      "metadata": {
        "id": "kl5uVDPFXOfw"
      },
      "execution_count": null,
      "outputs": []
    },
    {
      "cell_type": "markdown",
      "source": [
        "**Silhouette score**"
      ],
      "metadata": {
        "id": "ExmUIBsAKvR4"
      }
    },
    {
      "cell_type": "code",
      "source": [
        "from sklearn.cluster import KMeans\n",
        "from sklearn.metrics import silhouette_score\n",
        "import matplotlib.pyplot as plt\n",
        "import numpy as np\n",
        "\n",
        "silhouette_scores = []\n",
        "K_range = range(2, 11)\n",
        "\n",
        "for k in K_range:\n",
        "    kmeans = KMeans(n_clusters = k, random_state = 42, n_init = 10)\n",
        "    kmeans.fit(features_train)\n",
        "    val_labels = kmeans.predict(features_val)\n",
        "    score = silhouette_score(features_val, val_labels)\n",
        "    silhouette_scores.append(score)\n",
        "\n",
        "plt.figure(figsize = (8, 5))\n",
        "plt.plot(K_range, silhouette_scores, marker = 'o', color = 'green')\n",
        "plt.title(\"Silhouette score en validación vs número de clusters (K)\")\n",
        "plt.xlabel(\"Número de Clusters (K)\")\n",
        "plt.ylabel(\"Silhouette Score Promedio\")\n",
        "plt.grid(True)\n",
        "plt.tight_layout()\n",
        "\n",
        "# Guardar la figura\n",
        "plt.savefig(\"KMEANS_Silhouette_score.png\", dpi = 600, bbox_inches = 'tight')\n",
        "files.download(\"KMEANS_Silhouette_score.png\")\n",
        "\n",
        "plt.show()"
      ],
      "metadata": {
        "id": "fiB4MP2nvb9V"
      },
      "execution_count": null,
      "outputs": []
    },
    {
      "cell_type": "markdown",
      "source": [
        "## Algoritmo GMM"
      ],
      "metadata": {
        "id": "RlnVcpjaaTic"
      }
    },
    {
      "cell_type": "code",
      "source": [
        "# Clustering con GMM\n",
        "from sklearn.mixture import GaussianMixture\n",
        "import matplotlib.pyplot as plt\n",
        "import numpy as np\n",
        "import random\n",
        "from sklearn.manifold import TSNE\n",
        "from IPython.display import display\n",
        "\n",
        "# Selección automática del mejor k para GMM (AIC/BIC)\n",
        "k_values = range(1, 11)\n",
        "aic = []\n",
        "bic = []\n",
        "\n",
        "for k in k_values:\n",
        "    gmm_k = GaussianMixture(n_components = k, covariance_type = \"full\", random_state = 42)\n",
        "    gmm_k.fit(features_train)\n",
        "    aic.append(gmm_k.aic(features_train))\n",
        "    bic.append(gmm_k.bic(features_train))\n",
        "\n",
        "\n",
        "# Visualización\n",
        "plt.figure(figsize = (10, 5))\n",
        "plt.plot(k_values, aic, label = \"AIC\", marker = \"o\")\n",
        "plt.plot(k_values, bic, label = \"BIC\", marker = \"o\")\n",
        "plt.xlabel(\"Número de clusters (k)\")\n",
        "plt.ylabel(\"Score\")\n",
        "plt.title(\"Selección de número de clusters para GMM\")\n",
        "plt.legend()\n",
        "plt.grid(True)\n",
        "\n",
        "# Guardar la figura\n",
        "plt.savefig(\"GMM_AIC_&_BIC_score.png\", dpi = 600, bbox_inches = 'tight')\n",
        "files.download(\"GMM_AIC_&_BIC_score.png\")\n",
        "\n",
        "plt.show()\n",
        "\n",
        "# Selección automática del mejor k por BIC\n",
        "optimal_k_gmm = k_values[np.argmin(bic)]\n",
        "print(f\"Número óptimo de clusters según BIC: {optimal_k_gmm}\")"
      ],
      "metadata": {
        "id": "UDVqRYNXovMl"
      },
      "execution_count": null,
      "outputs": []
    },
    {
      "cell_type": "code",
      "source": [
        "# Entrenamiento final de GMM y predicción\n",
        "gmm = GaussianMixture(n_components = optimal_k_gmm, covariance_type = \"full\", random_state = 0)\n",
        "gmm.fit(features_train)\n",
        "gmm_preds_test3 = gmm.predict(features_test)"
      ],
      "metadata": {
        "id": "JS20bzTss7B0"
      },
      "execution_count": null,
      "outputs": []
    },
    {
      "cell_type": "code",
      "source": [
        "# Guardar las asignaciones de clusters\n",
        "clusters_GMM = gmm_preds_test3\n",
        "output_path_clustersGMM = \"/content/clusters_gmm3.npy\"\n",
        "np.save(output_path_clustersGMM, clusters_GMM)"
      ],
      "metadata": {
        "id": "31zYkWaNmEod"
      },
      "execution_count": null,
      "outputs": []
    },
    {
      "cell_type": "code",
      "source": [
        "# Distribución de clusters en el conjunto de test\n",
        "unique_k3, counts_k3 = np.unique(gmm_preds_test3, return_counts = True)\n",
        "distribution_k3 = dict(zip(unique_k3, counts_k3))\n",
        "print(\"Distribución de imágenes por cluster en TEST (GMM k = 3):\")\n",
        "for cluster, count in distribution_k3.items():\n",
        "    print(f\"Cluster {cluster}: {count} imágenes\")\n",
        "\n",
        "plt.figure(figsize = (8, 5))\n",
        "plt.bar(distribution_k3.keys(), distribution_k3.values(), color = 'tomato')\n",
        "plt.xlabel(\"Cluster GMM\")\n",
        "plt.ylabel(\"Cantidad de imágenes\")\n",
        "plt.title(\"Distribución de imágenes por cluster (test) - GMM k = 3\")\n",
        "plt.grid(axis = 'y')\n",
        "plt.xticks(list(distribution_k3.keys()))\n",
        "plt.tight_layout()\n",
        "\n",
        "# Guardar la figura\n",
        "plt.savefig(\"distribucion_clusters_test_GMM_k3.png\", dpi = 600, bbox_inches = 'tight')\n",
        "files.download(\"distribucion_clusters_test_GMM_k3.png\")\n",
        "\n",
        "plt.show()"
      ],
      "metadata": {
        "id": "RUXrk3dyqPWy"
      },
      "execution_count": null,
      "outputs": []
    },
    {
      "cell_type": "code",
      "source": [
        "import random\n",
        "from PIL import Image\n",
        "\n",
        "images_per_cluster = 20\n",
        "\n",
        "for cluster_id in range(optimal_k_gmm):\n",
        "    print(f\"\\nCluster {cluster_id}:\")\n",
        "    cluster_indices = np.where(gmm_preds_test3 == cluster_id)[0]\n",
        "    if len(cluster_indices) == 0:\n",
        "        print(\"No hay imágenes en este cluster.\")\n",
        "        continue\n",
        "\n",
        "    n_images = min(images_per_cluster, len(cluster_indices))\n",
        "    random_samples = random.sample(list(cluster_indices), n_images)\n",
        "\n",
        "    cols = 4\n",
        "    rows = (n_images + cols - 1) // cols\n",
        "    fig, axes = plt.subplots(rows, cols, figsize=(cols * 3, rows * 3))\n",
        "\n",
        "    for i, idx in enumerate(random_samples):\n",
        "        row, col = divmod(i, cols)\n",
        "        ax = axes[row][col] if rows > 1 else axes[col] if cols > 1 else axes\n",
        "        try:\n",
        "            img = Image.open(test_paths[idx])\n",
        "            ax.imshow(img.resize((224, 224)))\n",
        "            ax.axis('off')\n",
        "        except:\n",
        "            ax.set_title(\"Error\")\n",
        "            ax.axis('off')\n",
        "\n",
        "    for i in range(n_images, rows * cols):\n",
        "        row, col = divmod(i, cols)\n",
        "        ax = axes[row][col] if rows > 1 else axes[col] if cols > 1 else axes\n",
        "        ax.axis('off')\n",
        "\n",
        "    plt.suptitle(f\"GMM k=3 - Cluster {cluster_id}\", fontsize = 14)\n",
        "    plt.tight_layout()\n",
        "\n",
        "    # Guardar la figura\n",
        "    output_path = f\"cluster_{cluster_id}_muestras.png\"\n",
        "    plt.savefig(output_path, dpi = 300, bbox_inches = 'tight')\n",
        "\n",
        "    from google.colab import files\n",
        "    files.download(output_path)\n",
        "\n",
        "    plt.show()\n",
        "\n",
        "    plt.close()\n"
      ],
      "metadata": {
        "id": "wzg2Ju0zvKZT"
      },
      "execution_count": null,
      "outputs": []
    },
    {
      "cell_type": "code",
      "source": [
        "# Inercia en validación después de predict\n",
        "from sklearn.metrics import pairwise_distances_argmin_min\n",
        "\n",
        "gmm_val_preds3 = gmm.predict(features_val)\n",
        "_, val_distances_k3 = pairwise_distances_argmin_min(features_val, gmm.means_)\n",
        "val_inertia_k3 = np.sum(val_distances_k3 ** 2)\n",
        "print(f\"Inercia en VALIDACIÓN con GMM k = 3: {val_inertia_k3:.2f}\")\n"
      ],
      "metadata": {
        "id": "k2tajw-ov4BH"
      },
      "execution_count": null,
      "outputs": []
    },
    {
      "cell_type": "code",
      "source": [
        "# Matriz de confusión\n",
        "y_true = df[df[\"Partition\"] == \"test\"][\"Species\"].tolist()\n",
        "le = LabelEncoder()\n",
        "y_true_encoded = le.fit_transform(y_true)\n",
        "y_pred = gmm_preds_test3\n",
        "\n",
        "cm = confusion_matrix(y_true_encoded, y_pred)\n",
        "\n",
        "plt.figure(figsize = (10, 6))\n",
        "sns.heatmap(cm, annot = True, fmt = \"d\", cmap = \"Blues\", xticklabels = range(optimal_k_gmm), yticklabels = le.classes_)\n",
        "plt.xlabel(\"Cluster inferido (GMM)\")\n",
        "plt.ylabel(\"Etiqueta verdadera (especies)\")\n",
        "plt.title(\"Matriz de confusión - GMM vs etiquetas reales\")\n",
        "\n",
        "# Guardar la matriz de confusión\n",
        "plt.savefig(\"matriz_confusion_GMM3.png\", dpi = 600, bbox_inches = 'tight')\n",
        "files.download(\"matriz_confusion_GMM3.png\")\n",
        "\n",
        "plt.show()"
      ],
      "metadata": {
        "id": "Qg2cjHLDtE3j"
      },
      "execution_count": null,
      "outputs": []
    },
    {
      "cell_type": "code",
      "source": [
        "# Asignación de clase dominante por cluster y Jaccard\n",
        "assignments = {}\n",
        "for cluster_id in range(optimal_k_gmm):\n",
        "    indices = np.where(np.array(y_pred) == cluster_id)[0]\n",
        "    true_labels_in_cluster = [y_true_encoded[i] for i in indices]\n",
        "    if true_labels_in_cluster:\n",
        "        majority_label = max(set(true_labels_in_cluster), key = true_labels_in_cluster.count)\n",
        "        assignments[cluster_id] = majority_label\n",
        "    else:\n",
        "        assignments[cluster_id] = -1\n",
        "\n",
        "y_pred_mapped = [assignments[c] for c in y_pred]\n",
        "jaccard_macro = jaccard_score(y_true_encoded, y_pred_mapped, average = \"macro\")\n",
        "print(f\"Jaccard Index (macro): {jaccard_macro:.4f}\")"
      ],
      "metadata": {
        "id": "IJODd3dDtIeR"
      },
      "execution_count": null,
      "outputs": []
    },
    {
      "cell_type": "code",
      "source": [
        "# Métricas adicionales: ARI y Fowlkes-Mallows\n",
        "ari = adjusted_rand_score(y_true_encoded, y_pred)\n",
        "fmi = fowlkes_mallows_score(y_true_encoded, y_pred)\n",
        "print(f\"Adjusted Rand Index (ARI): {ari:.4f}\")\n",
        "print(f\"Fowlkes-Mallows Index: {fmi:.4f}\")"
      ],
      "metadata": {
        "id": "5IkTOZvqUD3v"
      },
      "execution_count": null,
      "outputs": []
    },
    {
      "cell_type": "code",
      "source": [
        "import matplotlib.pyplot as plt\n",
        "import numpy as np\n",
        "\n",
        "unique_clusters_gmm = np.unique(y_pred)\n",
        "unique_labels = np.unique(y_true_encoded)\n",
        "markers = [\"o\", \"s\", \"v\", \"^\", \"<\", \">\", \"d\", \"*\", \"P\", \"X\"]\n",
        "\n",
        "plt.figure(figsize = (10, 7))\n",
        "\n",
        "for cluster_id in unique_clusters_gmm:\n",
        "    for label_id in unique_labels:\n",
        "        indices = np.where((y_pred == cluster_id) & (y_true_encoded == label_id))[0]\n",
        "        if len(indices) == 0:\n",
        "            continue\n",
        "        plt.scatter(tsne_result[indices, 0], tsne_result[indices, 1],\n",
        "                    label = f\"Sp {label_id} / Cl {cluster_id}\",\n",
        "                    s = 8,\n",
        "                    c = [plt.cm.tab20(label_id / len(unique_labels))],\n",
        "                    marker = markers[int(cluster_id) % len(markers)],\n",
        "                    edgecolors = \"none\")\n",
        "\n",
        "plt.title(\"t-SNE (test) - Color: Especie real | Forma: Cluster GMM\")\n",
        "plt.xlabel(\"t-SNE 1\")\n",
        "plt.ylabel(\"t-SNE 2\")\n",
        "plt.grid(True)\n",
        "plt.legend(markerscale = 1.5, fontsize = 8, bbox_to_anchor = (1.05, 1), loc = \"upper left\")\n",
        "plt.tight_layout()\n",
        "plt.show()"
      ],
      "metadata": {
        "id": "qOUP6b8DnTSU"
      },
      "execution_count": null,
      "outputs": []
    },
    {
      "cell_type": "code",
      "source": [
        "import matplotlib.pyplot as plt\n",
        "import pandas as pd\n",
        "import numpy as np\n",
        "\n",
        "# Nombres reales de especies (orden según codificación)\n",
        "nombres_especies = {\n",
        "    0: 'Tinamú',\n",
        "    1: 'Agutí',\n",
        "    2: 'Paca',\n",
        "    3: 'Armadillo',\n",
        "    4: 'Roedor',\n",
        "    5: 'Ardilla'\n",
        "}\n",
        "\n",
        "# Crear DataFrame con t-SNE + predicciones\n",
        "df_tsne = pd.DataFrame({\n",
        "    'x': tsne_result[:, 0],\n",
        "    'y': tsne_result[:, 1],\n",
        "    'especie': y_true_encoded,\n",
        "    'cluster': y_pred\n",
        "})\n",
        "\n",
        "plt.figure(figsize = (12, 8))\n",
        "\n",
        "# Colores por especie real\n",
        "colores = plt.cm.Dark2(np.linspace(0, 1, len(nombres_especies)))\n",
        "\n",
        "for idx, especie in enumerate(df_tsne['especie'].unique()):\n",
        "    df_subset = df_tsne[df_tsne['especie'] == especie]\n",
        "    plt.scatter(df_subset['x'], df_subset['y'],\n",
        "                s = 12, alpha = 0.5, color = colores[idx],\n",
        "                label=nombres_especies.get(especie, f\"Especie {especie}\"))\n",
        "\n",
        "# Colocar número del cluster en el centro de cada grupo\n",
        "for (especie, cluster), group in df_tsne.groupby(['especie', 'cluster']):\n",
        "    x_med = group['x'].mean()\n",
        "    y_med = group['y'].mean()\n",
        "    plt.text(x_med, y_med, str(cluster),\n",
        "             fontsize = 13, weight = 'bold', ha = 'center', va = 'center',\n",
        "             color = 'black',\n",
        "             bbox = dict(facecolor = 'white', alpha = 0.8, edgecolor = 'gray', boxstyle = 'circle'))\n",
        "\n",
        "plt.title(\"t-SNE — Color: Especie real  |  Número: Cluster K-Means (k=6)\", fontsize = 14)\n",
        "plt.xlabel(\"t-SNE 1\")\n",
        "plt.ylabel(\"t-SNE 2\")\n",
        "plt.legend(title = \"Especie real\", bbox_to_anchor = (1.05, 1), loc = 'upper left', fontsize = 9)\n",
        "plt.tight_layout()\n",
        "\n",
        "# Guardar la figura\n",
        "plt.savefig(\"tsne_especie-cluster_GMM_3.png\", dpi = 600, bbox_inches = 'tight')\n",
        "files.download(\"tsne_especie-cluster_GMM_3.png\")\n",
        "\n",
        "plt.show()"
      ],
      "metadata": {
        "id": "7wPK3Zp4LXzW"
      },
      "execution_count": null,
      "outputs": []
    },
    {
      "cell_type": "markdown",
      "source": [
        "### Con k = 6"
      ],
      "metadata": {
        "id": "-J6uO5B99Vod"
      }
    },
    {
      "cell_type": "code",
      "source": [
        "# Entrenamiento final de GMM y predicción\n",
        "optimal_k_gmm = 6\n",
        "gmm = GaussianMixture(n_components = optimal_k_gmm, covariance_type = \"full\", random_state = 0)\n",
        "gmm.fit(features_train)\n",
        "gmm_preds_test6 = gmm.predict(features_test)"
      ],
      "metadata": {
        "id": "f_pWwmRR8O1o"
      },
      "execution_count": null,
      "outputs": []
    },
    {
      "cell_type": "code",
      "source": [
        "# Guardar las asignaciones de clusters\n",
        "clusters_GMM = gmm_preds_test6\n",
        "output_path_clustersGMM = \"/content/clusters_gmm6.npy\"\n",
        "np.save(output_path_clustersGMM, clusters_GMM)"
      ],
      "metadata": {
        "id": "rJ_M5ch8p2RX"
      },
      "execution_count": null,
      "outputs": []
    },
    {
      "cell_type": "code",
      "source": [
        "# Distribución de clusters en el conjunto de test\n",
        "unique_k6, counts_k6 = np.unique(gmm_preds_test6, return_counts = True)\n",
        "distribution_k6 = dict(zip(unique_k6, counts_k6))\n",
        "print(\"Distribución de imágenes por cluster en TEST (GMM k = 6):\")\n",
        "for cluster, count in distribution_k6.items():\n",
        "    print(f\"Cluster {cluster}: {count} imágenes\")\n",
        "\n",
        "plt.figure(figsize = (8, 5))\n",
        "plt.bar(distribution_k6.keys(), distribution_k6.values(), color = 'seagreen')\n",
        "plt.xlabel(\"Cluster GMM\")\n",
        "plt.ylabel(\"Cantidad de imágenes\")\n",
        "plt.title(\"Distribución de imágenes por cluster (test) - GMM k = 6\")\n",
        "plt.grid(axis='y')\n",
        "plt.xticks(list(distribution_k6.keys()))\n",
        "plt.tight_layout()\n",
        "\n",
        "# Guardar la figura\n",
        "plt.savefig(\"distribucion_clusters_test_GMM_k6.png\", dpi = 600, bbox_inches = 'tight')\n",
        "files.download(\"distribucion_clusters_test_GMM_k6.png\")\n",
        "\n",
        "plt.show()"
      ],
      "metadata": {
        "id": "WdMYVyW9qCCb"
      },
      "execution_count": null,
      "outputs": []
    },
    {
      "cell_type": "code",
      "source": [
        "images_per_cluster = 20\n",
        "\n",
        "for cluster_id in range(optimal_k_gmm):\n",
        "    print(f\"\\nCluster {cluster_id}:\")\n",
        "    cluster_indices = np.where(gmm_preds_test6 == cluster_id)[0]\n",
        "    if len(cluster_indices) == 0:\n",
        "        print(\"No hay imágenes en este cluster.\")\n",
        "        continue\n",
        "\n",
        "    n_images = min(images_per_cluster, len(cluster_indices))\n",
        "    random_samples = random.sample(list(cluster_indices), n_images)\n",
        "\n",
        "    cols = 4\n",
        "    rows = (n_images + cols - 1) // cols\n",
        "    fig, axes = plt.subplots(rows, cols, figsize=(cols * 3, rows * 3))\n",
        "\n",
        "    for i, idx in enumerate(random_samples):\n",
        "        row, col = divmod(i, cols)\n",
        "        ax = axes[row][col] if rows > 1 else axes[col] if cols > 1 else axes\n",
        "        try:\n",
        "            img = Image.open(test_paths[idx])\n",
        "            ax.imshow(img.resize((224, 224)))\n",
        "            ax.axis('off')\n",
        "        except:\n",
        "            ax.set_title(\"Error\")\n",
        "            ax.axis('off')\n",
        "\n",
        "    for i in range(n_images, rows * cols):\n",
        "        row, col = divmod(i, cols)\n",
        "        ax = axes[row][col] if rows > 1 else axes[col] if cols > 1 else axes\n",
        "        ax.axis('off')\n",
        "\n",
        "    plt.suptitle(f\"GMM k=6 - Cluster {cluster_id}\", fontsize = 14)\n",
        "    plt.tight_layout()\n",
        "\n",
        "    # Guardar la figura\n",
        "    output_path = f\"cluster_{cluster_id}_muestras.png\"\n",
        "    plt.savefig(output_path, dpi = 600, bbox_inches = 'tight')\n",
        "\n",
        "    from google.colab import files\n",
        "    files.download(output_path)\n",
        "\n",
        "    plt.show()\n",
        "\n",
        "    plt.close()"
      ],
      "metadata": {
        "id": "PRm71ZqJyQHq"
      },
      "execution_count": null,
      "outputs": []
    },
    {
      "cell_type": "code",
      "source": [
        "# Inercia en validación después de predict\n",
        "gmm_val_preds_k6 = gmm.predict(features_val)\n",
        "_, val_distances_k6 = pairwise_distances_argmin_min(features_val, gmm.means_)\n",
        "val_inertia_k6 = np.sum(val_distances_k6 ** 2)\n",
        "print(f\"Inercia en VALIDACIÓN con GMM k = 6: {val_inertia_k6:.2f}\")"
      ],
      "metadata": {
        "id": "2HOfZBc7y_tO"
      },
      "execution_count": null,
      "outputs": []
    },
    {
      "cell_type": "code",
      "source": [
        "# Matriz de confusión\n",
        "y_true = df[df[\"Partition\"] == \"test\"][\"Species\"].tolist()\n",
        "le = LabelEncoder()\n",
        "y_true_encoded = le.fit_transform(y_true)\n",
        "y_pred = gmm_preds_test6\n",
        "\n",
        "cm = confusion_matrix(y_true_encoded, y_pred)\n",
        "\n",
        "plt.figure(figsize = (10, 6))\n",
        "sns.heatmap(cm, annot = True, fmt = \"d\", cmap = \"Blues\", xticklabels = range(optimal_k_gmm), yticklabels = le.classes_)\n",
        "plt.xlabel(\"Cluster inferido (GMM)\")\n",
        "plt.ylabel(\"Etiqueta verdadera (especies)\")\n",
        "plt.title(\"Matriz de confusión - GMM vs etiquetas reales\")\n",
        "\n",
        "# Guardar la matriz de confusión\n",
        "plt.savefig(\"matriz_confusion_GMM6.png\", dpi = 600, bbox_inches = 'tight')\n",
        "files.download(\"matriz_confusion_GMM6.png\")\n",
        "\n",
        "plt.show()"
      ],
      "metadata": {
        "id": "O1sNPsvl9d3u"
      },
      "execution_count": null,
      "outputs": []
    },
    {
      "cell_type": "code",
      "source": [
        "# Asignación de clase dominante por cluster y Jaccard\n",
        "assignments = {}\n",
        "for cluster_id in range(optimal_k_gmm):\n",
        "    indices = np.where(np.array(y_pred) == cluster_id)[0]\n",
        "    true_labels_in_cluster = [y_true_encoded[i] for i in indices]\n",
        "    if true_labels_in_cluster:\n",
        "        majority_label = max(set(true_labels_in_cluster), key = true_labels_in_cluster.count)\n",
        "        assignments[cluster_id] = majority_label\n",
        "    else:\n",
        "        assignments[cluster_id] = -1\n",
        "\n",
        "y_pred_mapped = [assignments[c] for c in y_pred]\n",
        "jaccard_macro = jaccard_score(y_true_encoded, y_pred_mapped, average = \"macro\")\n",
        "print(f\"Jaccard Index (macro): {jaccard_macro:.4f}\")"
      ],
      "metadata": {
        "id": "Q0P_tdvD9jts"
      },
      "execution_count": null,
      "outputs": []
    },
    {
      "cell_type": "code",
      "source": [
        "# Métricas adicionales: ARI y Fowlkes-Mallows\n",
        "ari = adjusted_rand_score(y_true_encoded, y_pred)\n",
        "fmi = fowlkes_mallows_score(y_true_encoded, y_pred)\n",
        "print(f\"Adjusted Rand Index (ARI): {ari:.4f}\")\n",
        "print(f\"Fowlkes-Mallows Index: {fmi:.4f}\")"
      ],
      "metadata": {
        "id": "QJPiQ31E9q3w"
      },
      "execution_count": null,
      "outputs": []
    },
    {
      "cell_type": "code",
      "source": [
        "import matplotlib.pyplot as plt\n",
        "import numpy as np\n",
        "\n",
        "unique_clusters_gmm = np.unique(y_pred)\n",
        "unique_labels = np.unique(y_true_encoded)\n",
        "markers = [\"o\", \"s\", \"v\", \"^\", \"<\", \">\", \"d\", \"*\", \"P\", \"X\"]\n",
        "\n",
        "plt.figure(figsize = (10, 7))\n",
        "\n",
        "for cluster_id in unique_clusters_gmm:\n",
        "    for label_id in unique_labels:\n",
        "        indices = np.where((y_pred == cluster_id) & (y_true_encoded == label_id))[0]\n",
        "        if len(indices) == 0:\n",
        "            continue\n",
        "        plt.scatter(tsne_result[indices, 0], tsne_result[indices, 1],\n",
        "                    label = f\"Sp {label_id} / Cl {cluster_id}\",\n",
        "                    s = 8,\n",
        "                    c = [plt.cm.tab20(label_id / len(unique_labels))],\n",
        "                    marker = markers[int(cluster_id) % len(markers)],\n",
        "                    edgecolors = \"none\")\n",
        "\n",
        "plt.title(\"t-SNE (test) - Color: Especie real | Forma: Cluster GMM\")\n",
        "plt.xlabel(\"t-SNE 1\")\n",
        "plt.ylabel(\"t-SNE 2\")\n",
        "plt.grid(True)\n",
        "plt.legend(markerscale = 1.5, fontsize = 8, bbox_to_anchor = (1.05, 1), loc = \"upper left\")\n",
        "plt.tight_layout()\n",
        "plt.show()"
      ],
      "metadata": {
        "id": "K1HAiYPR0eE5"
      },
      "execution_count": null,
      "outputs": []
    },
    {
      "cell_type": "code",
      "source": [
        "import matplotlib.pyplot as plt\n",
        "import pandas as pd\n",
        "import numpy as np\n",
        "\n",
        "# Nombres reales de especies (orden según codificación)\n",
        "nombres_especies = {\n",
        "    0: 'Tinamú',\n",
        "    1: 'Agutí',\n",
        "    2: 'Paca',\n",
        "    3: 'Armadillo',\n",
        "    4: 'Roedor',\n",
        "    5: 'Ardilla'\n",
        "}\n",
        "\n",
        "# Crear DataFrame con t-SNE + predicciones\n",
        "df_tsne = pd.DataFrame({\n",
        "    'x': tsne_result[:, 0],\n",
        "    'y': tsne_result[:, 1],\n",
        "    'especie': y_true_encoded,\n",
        "    'cluster': y_pred\n",
        "})\n",
        "\n",
        "plt.figure(figsize = (12, 8))\n",
        "\n",
        "# Colores por especie real\n",
        "colores = plt.cm.Dark2(np.linspace(0, 1, len(nombres_especies)))\n",
        "\n",
        "for idx, especie in enumerate(df_tsne['especie'].unique()):\n",
        "    df_subset = df_tsne[df_tsne['especie'] == especie]\n",
        "    plt.scatter(df_subset['x'], df_subset['y'],\n",
        "                s = 12, alpha = 0.5, color = colores[idx],\n",
        "                label=nombres_especies.get(especie, f\"Especie {especie}\"))\n",
        "\n",
        "# Colocar número del cluster en el centro de cada grupo\n",
        "for (especie, cluster), group in df_tsne.groupby(['especie', 'cluster']):\n",
        "    x_med = group['x'].mean()\n",
        "    y_med = group['y'].mean()\n",
        "    plt.text(x_med, y_med, str(cluster),\n",
        "             fontsize = 13, weight = 'bold', ha = 'center', va = 'center',\n",
        "             color = 'black',\n",
        "             bbox = dict(facecolor = 'white', alpha = 0.8, edgecolor = 'gray', boxstyle = 'circle'))\n",
        "\n",
        "plt.title(\"t-SNE — Color: Especie real  |  Número: Cluster K-Means (k=6)\", fontsize = 14)\n",
        "plt.xlabel(\"t-SNE 1\")\n",
        "plt.ylabel(\"t-SNE 2\")\n",
        "plt.legend(title = \"Especie real\", bbox_to_anchor = (1.05, 1), loc = 'upper left', fontsize = 9)\n",
        "plt.tight_layout()\n",
        "\n",
        "# Guardar la figura\n",
        "plt.savefig(\"tsne_especie-cluster_GMM_6.png\", dpi = 300, bbox_inches = 'tight')\n",
        "files.download(\"tsne_especie-cluster_GMM_6.png\")\n",
        "\n",
        "plt.show()"
      ],
      "metadata": {
        "id": "9b-z80pdk52C"
      },
      "execution_count": null,
      "outputs": []
    },
    {
      "cell_type": "code",
      "source": [],
      "metadata": {
        "id": "wc2tCLK1OLyr"
      },
      "execution_count": null,
      "outputs": []
    }
  ]
}